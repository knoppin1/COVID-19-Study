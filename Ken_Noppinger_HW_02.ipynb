{
  "nbformat": 4,
  "nbformat_minor": 0,
  "metadata": {
    "colab": {
      "name": "Ken_Noppinger_HW_02.ipynb",
      "provenance": [],
      "authorship_tag": "ABX9TyOkd1kJzrM3NFNLuUCzGKjx",
      "include_colab_link": true
    },
    "kernelspec": {
      "name": "python3",
      "display_name": "Python 3"
    },
    "language_info": {
      "name": "python"
    }
  },
  "cells": [
    {
      "cell_type": "markdown",
      "metadata": {
        "id": "view-in-github",
        "colab_type": "text"
      },
      "source": [
        "<a href=\"https://colab.research.google.com/github/knoppin1/COVID-19-Study/blob/main/Ken_Noppinger_HW_02.ipynb\" target=\"_parent\"><img src=\"https://colab.research.google.com/assets/colab-badge.svg\" alt=\"Open In Colab\"/></a>"
      ]
    },
    {
      "cell_type": "markdown",
      "metadata": {
        "id": "XpAFEczWUUcU"
      },
      "source": [
        "# DATA 690 - Intoduction to Natural Language Processing\n",
        "## Ken Noppinger\n",
        "## Homework Assignment - 02\n",
        "\n",
        "1. Make sure you have installed BeautifulSoup and lxml\n",
        "2. Use the website https://pythonprogramming.net/parsememcparseface/\n",
        "3. Connect to the website using urllib.request\n",
        "4. Create an object called ‘soup’ using the source\n",
        "5. Print page title, get attributes, values, and beginning navigation. Get specific\n",
        "values.\n",
        "6. Find all the paragraph instead of just one in the previous query\n",
        "7. You can iterate through them using ‘str(paragraph.text)’\n",
        "8. Grab all the links through ‘url.get(‘href’)\n",
        "9. Just grab the text using ‘get_text’"
      ]
    },
    {
      "cell_type": "code",
      "metadata": {
        "id": "HdkrOcvoULB3"
      },
      "source": [
        "from bs4 import BeautifulSoup \n",
        "import lxml"
      ],
      "execution_count": 1,
      "outputs": []
    },
    {
      "cell_type": "markdown",
      "metadata": {
        "id": "bTFXIXY0ea3k"
      },
      "source": [
        "### Read HTML File into BeautfiulSoup"
      ]
    },
    {
      "cell_type": "code",
      "metadata": {
        "colab": {
          "base_uri": "https://localhost:8080/"
        },
        "id": "VgXu4FIlYHHo",
        "outputId": "14b621de-79b1-4ccd-ff9a-47280e135551"
      },
      "source": [
        "import urllib.request\n",
        "with urllib.request.urlopen('https://pythonprogramming.net/parsememcparseface/') as response:\n",
        "   html = response.read()\n",
        "html"
      ],
      "execution_count": 2,
      "outputs": [
        {
          "output_type": "execute_result",
          "data": {
            "text/plain": [
              "b'<html>\\n\\t<head>\\n\\n\\t\\t<!--\\n\\t\\tpalette:\\n\\t\\tdark blue: #003F72\\n\\t\\tyellow: #FFD166\\n\\t\\tsalmon: #EF476F\\n\\t\\toffwhite: #e7d7d7\\n\\t\\tLight Blue: #118AB2\\n\\t\\tLight green: #7DDF64\\n\\t\\t-->\\n\\n\\t\\t<meta name=\"viewport\" content = \"width=device-width, initial-scale=1.0\">\\n\\t\\t<title>Python Programming Tutorials</title>\\n\\n\\t\\t<meta name=\"description\" content=\"Python Programming tutorials from beginner to advanced on a massive variety of topics. All video and text tutorials are free.\">\\n\\n\\t\\t<link rel=\"shortcut icon\" href=\"/static/favicon.ico\">\\n\\t\\t<link rel=\"stylesheet\" href=\"/static/css/materialize.min.css\">\\n        <link href=\"https://fonts.googleapis.com/icon?family=Material+Icons\" rel=\"stylesheet\">\\n        <meta name=\"google-site-verification\" content=\"3fLok05gk5gGtWd_VSXbSSSH27F2kr1QqcxYz9vYq2k\" />\\n        <link rel=\"stylesheet\" type=\"text/css\" href=\"/static/css/bootstrap.css\">\\n\\n\\n\\t\\t  <!-- Compiled and minified CSS -->\\n\\n\\t\\t<!-- Compiled and minified JavaScript -->\\n\\n\\t\\t<script src=\"https://code.jquery.com/jquery-2.1.4.min.js\"></script>\\n\\t\\t<script src=\"https://cdnjs.cloudflare.com/ajax/libs/materialize/0.97.3/js/materialize.min.js\"></script>\\n\\n\\n\\n        <style>\\n\\t\\t@media (min-width:992px) {\\n\\t\\t#aside {\\n\\t\\t\\twidth:250px;\\n\\t\\t}\\n\\t\\tpre { tab-size: 4;}\\n\\t\\t.btn {background-color:#FFD166;\\n\\t\\t\\t  color:#000;\\n\\t\\t      height:auto;\\n\\t\\t\\t  font-color:#000;\\n\\t\\t\\t  }\\n\\t\\t.btn:hover {background-color:#FFD166;\\n\\t\\t\\t\\t\\t}\\n\\n\\n\\t\\t</style>\\n\\n\\t\\t<!-- Google Tracking -->\\n\\t\\t<script>\\n\\t\\t\\t  (function(i,s,o,g,r,a,m){i[\\'GoogleAnalyticsObject\\']=r;i[r]=i[r]||function(){\\n\\t\\t\\t  (i[r].q=i[r].q||[]).push(arguments)},i[r].l=1*new Date();a=s.createElement(o),\\n\\t\\t\\t  m=s.getElementsByTagName(o)[0];a.async=1;a.src=g;m.parentNode.insertBefore(a,m)\\n\\t\\t\\t  })(window,document,\\'script\\',\\'//www.google-analytics.com/analytics.js\\',\\'ga\\');\\n              ga(\\'config\\', \\'UA-51891827-1\\', {\\'anonymize_ip\\': true});\\xef\\xbb\\xbf\\n\\t\\t\\t  ga(\\'create\\', \\'UA-51891827-1\\', \\'auto\\');\\n\\t\\t\\t  ga(\\'send\\', \\'pageview\\');\\n\\n\\t\\t</script>\\n\\n            \\n                \\n                    <script async src=\"//pagead2.googlesyndication.com/pagead/js/adsbygoogle.js\"></script>\\n                    <script>\\n                         (adsbygoogle = window.adsbygoogle || []).push({\\n                              google_ad_client: \"ca-pub-1579050400541873\",\\n                              enable_page_level_ads: true\\n                         });\\n                    </script>\\n                \\n            \\n\\n\\n\\n\\n\\t</head>\\n\\n\\t<body>\\n\\n\\t\\t<div class=\"navbar-fixed\">\\n\\t\\t\\t<nav style=\"background-color:#003F72\">\\n\\t\\t\\t\\t<div class=\"nav-wrapper container\">\\n\\t\\t\\t\\t\\t<a href=\"/\" class=\"brand-logo\"><img class=\"img-responsive\" style=\"width:50px; height;50px; margin-top:5px\" src=\"/static/images/mainlogowhitethick.jpg\"></a>\\n\\t\\t\\t\\t\\t<a href=\"#\" data-activates=\"navsidebar\" class=\"button-collapse\"><i class=\"mdi-navigation-menu\"></i></a>\\n\\t\\t\\t\\t\\t<ul class=\"right hide-on-med-and-down\">\\n\\t\\t\\t\\t\\t<li><i class=\"material-icons\">search</i></li>\\n\\t\\t\\t\\t\\t<li>\\n\\t\\t\\t\\t\\t\\t<form method=\\'get\\' id=\\'searchform\\' style=\\'height:50px; padding-top:10px\\' action=\\'/search/?l=hi\\'>\\n\\t\\t\\t\\t\\t\\t\\t<input name=\\'q\\' id=\"search\" type=\"search\" placeholder=\"search\"  style=\\'font-size:16px\\'>\\n\\t\\t\\t\\t\\t\\t</form>\\n\\t\\t\\t\\t\\t</li>\\n\\t\\t\\t\\t\\t\\t\\n\\t\\t\\t<li><a href=\"/\">Home</a></li>\\n\\t\\t\\t<li><a class=\"tooltipped\" data-position=\"bottom\" data-delay=\"50\" data-tooltip=\"sudo apt-get upgrade\" href=\"/+=1/\">+=1</a></li>\\n\\t\\t\\t<!--<li><a href=\"/store/python-hoodie/\">Store</a></li>-->\\n\\t\\t\\t<li><a href=\"/support/\">Support the Content</a></li>\\n\\t\\t\\t\\n\\t\\t\\t<li><a href=\"https://goo.gl/7zgAVQ\" target=\\'blank\\'><!--<i class=\"material-icons\">question_answer</i>-->Community</a></li>\\n\\t\\t\\t\\t<li><a href=\"/login/\">Log in</a></li>\\n                <li><a href=\"/register/\">Sign up</a></li>\\n\\t\\t\\t\\n\\n\\t\\t\\t\\t\\t</ul>\\n\\t\\t\\t\\t\\t<ul class=\"side-nav\" id=\"navsidebar\">\\n\\t\\t\\t\\t\\t<li>\\n\\t\\t\\t\\t\\t\\t<form method=\\'get\\' id=\\'searchform\\' style=\\'height:50px; padding-top:10px\\' action=\\'/search/?l=hi\\'>\\n\\t\\t\\t\\t\\t\\t\\t<input name=\\'q\\' id=\"search\" type=\"search\" placeholder=\"search\"  style=\\'font-size:16px\\'>\\n\\t\\t\\t\\t\\t\\t</form>\\n\\t\\t\\t\\t\\t</li>\\n\\t\\t\\t\\t\\t\\t\\n\\t\\t\\t<li><a href=\"/\">Home</a></li>\\n\\t\\t\\t<li><a class=\"tooltipped\" data-position=\"bottom\" data-delay=\"50\" data-tooltip=\"sudo apt-get upgrade\" href=\"/+=1/\">+=1</a></li>\\n\\t\\t\\t<!--<li><a href=\"/store/python-hoodie/\">Store</a></li>-->\\n\\t\\t\\t<li><a href=\"/support/\">Support the Content</a></li>\\n\\t\\t\\t\\n\\t\\t\\t<li><a href=\"https://goo.gl/7zgAVQ\" target=\\'blank\\'><!--<i class=\"material-icons\">question_answer</i>-->Community</a></li>\\n\\t\\t\\t\\t<li><a href=\"/login/\">Log in</a></li>\\n                <li><a href=\"/register/\">Sign up</a></li>\\n\\t\\t\\t\\n\\n\\t\\t\\t\\t\\t</ul>\\n\\t\\t\\t\\t</div>\\n\\t\\t\\t</nav>\\n\\t\\t</div>\\n\\n\\n\\n\\t\\t<!-- main content -->\\n\\t\\t<div class=\"container\" style=\"max-width:1500px; min-height:100%\">\\n\\t\\t\\t<!--Notification:-->\\n            <!--<p style=\"font-size:80%\">TensorFlow.js Livestream:  <a href=\"https://www.youtube.com/watch?v=NjSlj95lliM\" target=\"blank\"><strong>Deep Learning in the browser</strong></a></p>-->\\n            <!--End Notification:-->\\n\\n\\t\\t\\t\\t\\t\\n\\t\\t\\t\\t\\t\\n\\t\\t\\t\\t\\t  \\n\\t\\t\\t\\t\\t\\n\\n\\t\\t\\t\\t\\t\\n\\n<div class=\"body\">\\n\\n\\t<p class=\\'introduction\\'>Oh, hello! This is a <span style=\\'font-size:115%\\'>wonderful</span> page meant to let you practice web scraping. This page was originally created to help people work with the <a href=\"https://www.crummy.com/software/BeautifulSoup/bs4/doc/\" target=\"blank\"><strong>Beautiful Soup 4</strong></a> library.</p>\\n\\n\\t<p>The following table gives some general information for the following <code>programming languages</code>:</p>\\n\\n\\t<ul>\\n\\t\\t<li>Python</li>\\n\\t\\t<li>Pascal</li>\\n\\t\\t<li>Lisp</li>\\n\\t\\t<li>D#</li>\\n\\t\\t<li>Cobol</li>\\n\\t\\t<li>Fortran</li>\\n\\t\\t<li>Haskell</li>\\n\\t</ul>\\n\\n\\n\\t<table style=\"width:100%\">\\n\\n\\t  <tr>\\n\\t    <th>Program Name</th>\\n\\t    <th>Internet Points</th> \\n\\t    <th>Kittens?</th>\\n\\t  </tr>\\n\\n\\t  <tr>\\n\\t    <td>Python</td>\\n\\t    <td>932914021</td> \\n\\t    <td>Definitely</td>\\n\\t  </tr>\\n\\n\\t  <tr>\\n\\t    <td>Pascal</td>\\n\\t    <td>532</td> \\n\\t    <td>Unlikely</td>\\n\\t  </tr>\\n\\n\\n\\t  <tr>\\n\\t    <td>Lisp</td>\\n\\t    <td>1522</td> \\n\\t    <td>Uncertain</td>\\n\\t  </tr>\\n\\n\\n\\t  <tr>\\n\\t    <td>D#</td>\\n\\t    <td>12</td> \\n\\t    <td>Possibly</td>\\n\\t  </tr>\\n\\n\\n\\t  <tr>\\n\\t    <td>Cobol</td>\\n\\t    <td>3</td> \\n\\t    <td>No.</td>\\n\\t  </tr>\\n\\n\\t  <tr>\\n\\t    <td>Fortran</td>\\n\\t    <td>52124</td> \\n\\t    <td>Yes.</td>\\n\\t  </tr>\\n\\n\\t  <tr>\\n\\t    <td>Haskell</td>\\n\\t    <td>24</td> \\n\\t    <td>lol.</td>\\n\\t  </tr>\\n\\n\\t</table>\\n\\n\\t<p>I think it\\'s clear that, on a scale of 1-10, python is:</p>\\n\\n\\t<div class=\\'card hoverable\\'>\\n\\t\\t<div class=\\'card-content\\'>\\n\\t\\t\\t<div class=\\'card-title\\'></div>\\n\\t\\t\\t<img class=\"responsive-img\" src=\"https://s-media-cache-ak0.pinimg.com/originals/e8/2a/ff/e82aff2876b080675449d0cef7685321.jpg\" alt=\"omg batman\" />\\n\\t\\t</div>\\n\\t</div>\\n\\n  <p>Javascript (dynamic data) test:</p>\\n  <p class=\\'jstest\\' id=\\'yesnojs\\'>y u bad tho?</p>\\n  <script>\\n     document.getElementById(\\'yesnojs\\').innerHTML = \\'Look at you shinin!\\';\\n  </script> \\n\\n<br><br>\\n\\t\\n<pre>Beautiful is better than ugly.\\nExplicit is better than implicit.\\nSimple is better than complex.\\nComplex is better than complicated.\\nFlat is better than nested.\\nSparse is better than dense.\\nReadability counts.\\nSpecial cases aren\\'t special enough to break the rules.\\nAlthough practicality beats purity.\\nErrors should never pass silently.\\nUnless explicitly silenced.\\nIn the face of ambiguity, refuse the temptation to guess.\\nThere should be one-- and preferably only one --obvious way to do it.\\nAlthough that way may not be obvious at first unless you\\'re Dutch.\\nNow is better than never.\\nAlthough never is often better than *right* now.\\nIf the implementation is hard to explain, it\\'s a bad idea.\\nIf the implementation is easy to explain, it may be a good idea.\\nNamespaces are one honking great idea -- let\\'s do more of those!</pre>\\n\\n\\t<p>Wh\\xe1\\xb6\\x90t h\\xce\\xb1pp\\xc3\\xa9ns now\\xc2\\xbf</p>\\n\\n\\t<p><a href=\"/sitemap.xml\" target=\"blank\"><strong>sitemap</strong></a></p>\\n\\n</body>\\n\\n\\n\\t\\t\\t</div>\\n\\t\\t</div>\\n\\n\\t\\t<!--login modal-->\\n\\t\\t\\n\\n\\t\\t<!--Register modal-->\\n\\t\\t\\n\\n\\n\\t\\t<script>\\n\\t\\t\\t$(document).ready(function(){\\n\\t\\t\\t\\t$(\".button-collapse\").sideNav();\\n\\t\\t\\t\\t$(\\'.modal-trigger\\').leanModal();\\n\\t\\t\\t\\t$(\\'.collapsible\\').collapsible({\\n\\t\\t\\t\\t  accordion : false // A setting that changes the collapsible behavior to expandable instead of the default accordion style\\n\\t\\t\\t\\t});\\n\\t\\t\\t\\t$(\\'#aside\\').pushpin({ top:110, bottom:500 });\\n\\t\\t  });\\n\\t\\t</script>\\n\\t\\t<script>\\n\\t\\t  $(document).ready(function(){\\n\\t\\t\\t$(\\'.collapsible\\').collapsible({\\n\\t\\t\\t  accordion : false // A setting that changes the collapsible behavior to expandable instead of the default accordion style\\n\\t\\t\\t});\\n\\t\\t\\t$(\\'select\\').material_select();\\n\\t\\t  });\\n\\t  </script>\\n\\t  <script>\\n\\t\\tfunction goBack() {\\n\\t\\t\\twindow.history.back()\\n\\t\\t}\\n\\t</script>\\n\\t\\t<script type=\"text/javascript\" src=\"/static/js/run_prettify.js\"></script>\\n\\n\\t</body>\\n\\n<footer class=\"page-footer\">\\n          <div class=\"container\">\\n            <div class=\"row\">\\n              <div class=\"col l6 s12\">\\n                <h5 class=\"white-text\">You\\'ve reached the end!</h5>\\n\\n                <p class=\"grey-text text-lighten-4\">Contact: Harrison@pythonprogramming.net.</p>\\n                <ul>\\n                  <li><a class=\"grey-text text-lighten-3\" href=\"/support-donate/\">Support this Website!</a></li>\\n                  <li><a class=\"grey-text text-lighten-3\" href=\"/consulting/\">Consulting and Contracting</a></li>\\n                  <li><a class=\"grey-text text-lighten-3\" href=\"https://www.facebook.com/pythonprogramming.net/\">Facebook</a></li>\\n                  <li><a class=\"grey-text text-lighten-3\" href=\"https://twitter.com/sentdex\">Twitter</a></li>\\n                  <li><a class=\"grey-text text-lighten-3\" href=\"https://instagram.com/sentdex\">Instagram</a></li>\\n                </ul>\\n              </div>\\n              <div class=\"col l4 offset-l2 s12\">\\n                <h6 class=\"white-text\">Legal stuff:</h6>\\n                <ul>\\n                  <li><a class=\"grey-text text-lighten-3\" href=\"/about/tos/\">Terms and Conditions</a></li>\\n                  <li><a class=\"grey-text text-lighten-3\" href=\"/about/privacy-policy/\">Privacy Policy</a></li>\\n\\n                </ul>\\n              </div>\\n            </div>\\n          </div>\\n          <a href=\"https://xkcd.com/353/\" target=\\'blank\\'><p class=\"grey-text right\" style=\\'padding-right:10px\\'>Programming is a superpower.</p></a>\\n          <div class=\"footer-copyright\">\\n            <div class=\"container\">\\n            \\xc2\\xa9 OVER 9000! PythonProgramming.net\\n\\n            </div>\\n\\n          </div>\\n        </footer>\\n\\n</html>\\n\\n\\n\\n\\n\\n\\n\\n\\n\\n\\n\\n\\n\\n\\n'"
            ]
          },
          "metadata": {},
          "execution_count": 2
        }
      ]
    },
    {
      "cell_type": "code",
      "metadata": {
        "colab": {
          "base_uri": "https://localhost:8080/",
          "height": 100
        },
        "id": "xpeAlSZJhEWr",
        "outputId": "d0e12745-d40d-468b-bb92-7b57f549a450"
      },
      "source": [
        "soup = BeautifulSoup(html)\n",
        "soup.text"
      ],
      "execution_count": 3,
      "outputs": [
        {
          "output_type": "execute_result",
          "data": {
            "application/vnd.google.colaboratory.intrinsic+json": {
              "type": "string"
            },
            "text/plain": [
              "'\\n\\n\\n\\nPython Programming Tutorials\\n\\n\\n\\n\\n\\n\\n\\n\\n\\n\\n\\n\\t\\t@media (min-width:992px) {\\n\\t\\t#aside {\\n\\t\\t\\twidth:250px;\\n\\t\\t}\\n\\t\\tpre { tab-size: 4;}\\n\\t\\t.btn {background-color:#FFD166;\\n\\t\\t\\t  color:#000;\\n\\t\\t      height:auto;\\n\\t\\t\\t  font-color:#000;\\n\\t\\t\\t  }\\n\\t\\t.btn:hover {background-color:#FFD166;\\n\\t\\t\\t\\t\\t}\\n\\n\\n\\t\\t\\n\\n\\n\\t\\t\\t  (function(i,s,o,g,r,a,m){i[\\'GoogleAnalyticsObject\\']=r;i[r]=i[r]||function(){\\n\\t\\t\\t  (i[r].q=i[r].q||[]).push(arguments)},i[r].l=1*new Date();a=s.createElement(o),\\n\\t\\t\\t  m=s.getElementsByTagName(o)[0];a.async=1;a.src=g;m.parentNode.insertBefore(a,m)\\n\\t\\t\\t  })(window,document,\\'script\\',\\'//www.google-analytics.com/analytics.js\\',\\'ga\\');\\n              ga(\\'config\\', \\'UA-51891827-1\\', {\\'anonymize_ip\\': true});\\ufeff\\n\\t\\t\\t  ga(\\'create\\', \\'UA-51891827-1\\', \\'auto\\');\\n\\t\\t\\t  ga(\\'send\\', \\'pageview\\');\\n\\n\\t\\t\\n\\n\\n                         (adsbygoogle = window.adsbygoogle || []).push({\\n                              google_ad_client: \"ca-pub-1579050400541873\",\\n                              enable_page_level_ads: true\\n                         });\\n                    \\n\\n\\n\\n\\n\\n\\n\\n\\nsearch\\n\\n\\n\\n\\n\\nHome\\n+=1\\n\\nSupport the Content\\nCommunity\\nLog in\\nSign up\\n\\n\\n\\n\\n\\n\\n\\nHome\\n+=1\\n\\nSupport the Content\\nCommunity\\nLog in\\nSign up\\n\\n\\n\\n\\n\\n\\n\\n\\n\\n\\nOh, hello! This is a wonderful page meant to let you practice web scraping. This page was originally created to help people work with the Beautiful Soup 4 library.\\nThe following table gives some general information for the following programming languages:\\n\\nPython\\nPascal\\nLisp\\nD#\\nCobol\\nFortran\\nHaskell\\n\\n\\n\\nProgram Name\\nInternet Points\\nKittens?\\n\\n\\nPython\\n932914021\\nDefinitely\\n\\n\\nPascal\\n532\\nUnlikely\\n\\n\\nLisp\\n1522\\nUncertain\\n\\n\\nD#\\n12\\nPossibly\\n\\n\\nCobol\\n3\\nNo.\\n\\n\\nFortran\\n52124\\nYes.\\n\\n\\nHaskell\\n24\\nlol.\\n\\n\\nI think it\\'s clear that, on a scale of 1-10, python is:\\n\\n\\n\\n\\n\\n\\nJavascript (dynamic data) test:\\ny u bad tho?\\n\\n     document.getElementById(\\'yesnojs\\').innerHTML = \\'Look at you shinin!\\';\\n  \\n\\nBeautiful is better than ugly.\\nExplicit is better than implicit.\\nSimple is better than complex.\\nComplex is better than complicated.\\nFlat is better than nested.\\nSparse is better than dense.\\nReadability counts.\\nSpecial cases aren\\'t special enough to break the rules.\\nAlthough practicality beats purity.\\nErrors should never pass silently.\\nUnless explicitly silenced.\\nIn the face of ambiguity, refuse the temptation to guess.\\nThere should be one-- and preferably only one --obvious way to do it.\\nAlthough that way may not be obvious at first unless you\\'re Dutch.\\nNow is better than never.\\nAlthough never is often better than *right* now.\\nIf the implementation is hard to explain, it\\'s a bad idea.\\nIf the implementation is easy to explain, it may be a good idea.\\nNamespaces are one honking great idea -- let\\'s do more of those!\\nWhᶐt hαppéns now¿\\nsitemap\\n\\n\\n\\n\\n\\t\\t\\t$(document).ready(function(){\\n\\t\\t\\t\\t$(\".button-collapse\").sideNav();\\n\\t\\t\\t\\t$(\\'.modal-trigger\\').leanModal();\\n\\t\\t\\t\\t$(\\'.collapsible\\').collapsible({\\n\\t\\t\\t\\t  accordion : false // A setting that changes the collapsible behavior to expandable instead of the default accordion style\\n\\t\\t\\t\\t});\\n\\t\\t\\t\\t$(\\'#aside\\').pushpin({ top:110, bottom:500 });\\n\\t\\t  });\\n\\t\\t\\n\\n\\t\\t  $(document).ready(function(){\\n\\t\\t\\t$(\\'.collapsible\\').collapsible({\\n\\t\\t\\t  accordion : false // A setting that changes the collapsible behavior to expandable instead of the default accordion style\\n\\t\\t\\t});\\n\\t\\t\\t$(\\'select\\').material_select();\\n\\t\\t  });\\n\\t  \\n\\n\\t\\tfunction goBack() {\\n\\t\\t\\twindow.history.back()\\n\\t\\t}\\n\\t\\n\\n\\n\\n\\n\\nYou\\'ve reached the end!\\nContact: Harrison@pythonprogramming.net.\\n\\nSupport this Website!\\nConsulting and Contracting\\nFacebook\\nTwitter\\nInstagram\\n\\n\\n\\nLegal stuff:\\n\\nTerms and Conditions\\nPrivacy Policy\\n\\n\\n\\n\\nProgramming is a superpower.\\n\\n\\n            © OVER 9000! PythonProgramming.net\\n\\n            \\n\\n\\n\\n'"
            ]
          },
          "metadata": {},
          "execution_count": 3
        }
      ]
    },
    {
      "cell_type": "markdown",
      "metadata": {
        "id": "9vf3_K4udYF3"
      },
      "source": [
        "Alternative way to load HTML into BeautifulSoup...\n",
        "```\n",
        "import requests\n",
        "r = requests.get(\"https://pythonprogramming.net/parsememcparseface/\")\n",
        "soup = BeautifulSoup(r.content)\n",
        "soup.text\n",
        "```"
      ]
    },
    {
      "cell_type": "markdown",
      "metadata": {
        "id": "b-twLYuUet3K"
      },
      "source": [
        "### Print Page Title"
      ]
    },
    {
      "cell_type": "code",
      "metadata": {
        "colab": {
          "base_uri": "https://localhost:8080/"
        },
        "id": "CaRM4kMAbQJt",
        "outputId": "04207e3f-f690-4e20-dd6e-9df53978d8d5"
      },
      "source": [
        "element = soup.find('title')\n",
        "print(\"Element\\t\", element)\n",
        "print(\"Value\\t\", element.get_text())"
      ],
      "execution_count": 4,
      "outputs": [
        {
          "output_type": "stream",
          "name": "stdout",
          "text": [
            "Element\t <title>Python Programming Tutorials</title>\n",
            "Value\t Python Programming Tutorials\n"
          ]
        }
      ]
    },
    {
      "cell_type": "markdown",
      "metadata": {
        "id": "MtOOUFWKfAhi"
      },
      "source": [
        "### Print Some Attributes and Values"
      ]
    },
    {
      "cell_type": "markdown",
      "metadata": {
        "id": "SChN77xWoonV"
      },
      "source": [
        "Get a \"link\" element and its value (note - there isn't any)"
      ]
    },
    {
      "cell_type": "code",
      "metadata": {
        "colab": {
          "base_uri": "https://localhost:8080/"
        },
        "id": "kQX4PgeCil4P",
        "outputId": "966743d2-f9c5-419e-9383-174effac18a7"
      },
      "source": [
        "element = soup.find(\"link\")\n",
        "print(\"Element\\t\", element)\n",
        "print(\"Value\\t\", element.get_text())"
      ],
      "execution_count": 5,
      "outputs": [
        {
          "output_type": "stream",
          "name": "stdout",
          "text": [
            "Element\t <link href=\"/static/favicon.ico\" rel=\"shortcut icon\"/>\n",
            "Value\t \n"
          ]
        }
      ]
    },
    {
      "cell_type": "code",
      "metadata": {
        "colab": {
          "base_uri": "https://localhost:8080/"
        },
        "id": "k1zarV21j-JD",
        "outputId": "553be3be-7775-4595-99cc-1539bc1c5904"
      },
      "source": [
        "element = soup.find(\"style\")\n",
        "print(\"Element\\t\", element)\n",
        "print(\"Value\\t\", element.get_text())"
      ],
      "execution_count": 6,
      "outputs": [
        {
          "output_type": "stream",
          "name": "stdout",
          "text": [
            "Element\t <style>\n",
            "\t\t@media (min-width:992px) {\n",
            "\t\t#aside {\n",
            "\t\t\twidth:250px;\n",
            "\t\t}\n",
            "\t\tpre { tab-size: 4;}\n",
            "\t\t.btn {background-color:#FFD166;\n",
            "\t\t\t  color:#000;\n",
            "\t\t      height:auto;\n",
            "\t\t\t  font-color:#000;\n",
            "\t\t\t  }\n",
            "\t\t.btn:hover {background-color:#FFD166;\n",
            "\t\t\t\t\t}\n",
            "\n",
            "\n",
            "\t\t</style>\n",
            "Value\t \n",
            "\t\t@media (min-width:992px) {\n",
            "\t\t#aside {\n",
            "\t\t\twidth:250px;\n",
            "\t\t}\n",
            "\t\tpre { tab-size: 4;}\n",
            "\t\t.btn {background-color:#FFD166;\n",
            "\t\t\t  color:#000;\n",
            "\t\t      height:auto;\n",
            "\t\t\t  font-color:#000;\n",
            "\t\t\t  }\n",
            "\t\t.btn:hover {background-color:#FFD166;\n",
            "\t\t\t\t\t}\n",
            "\n",
            "\n",
            "\t\t\n"
          ]
        }
      ]
    },
    {
      "cell_type": "markdown",
      "metadata": {
        "id": "MX_N5UdDjZxJ"
      },
      "source": [
        "### Get the Navigation bar \n",
        "\n",
        "Start by getting the \"navbar-fixed\" attribute"
      ]
    },
    {
      "cell_type": "code",
      "metadata": {
        "colab": {
          "base_uri": "https://localhost:8080/"
        },
        "id": "FCCNKh9FkE8C",
        "outputId": "33902f0a-7dbd-4914-cff4-950092d51cac"
      },
      "source": [
        "nav = soup.find(\"div\", {\"class\":\"navbar-fixed\"})\n",
        "print(\"Element\\n\", nav)"
      ],
      "execution_count": 7,
      "outputs": [
        {
          "output_type": "stream",
          "name": "stdout",
          "text": [
            "Element\n",
            " <div class=\"navbar-fixed\">\n",
            "<nav style=\"background-color:#003F72\">\n",
            "<div class=\"nav-wrapper container\">\n",
            "<a class=\"brand-logo\" href=\"/\"><img class=\"img-responsive\" src=\"/static/images/mainlogowhitethick.jpg\" style=\"width:50px; height;50px; margin-top:5px\"/></a>\n",
            "<a class=\"button-collapse\" data-activates=\"navsidebar\" href=\"#\"><i class=\"mdi-navigation-menu\"></i></a>\n",
            "<ul class=\"right hide-on-med-and-down\">\n",
            "<li><i class=\"material-icons\">search</i></li>\n",
            "<li>\n",
            "<form action=\"/search/?l=hi\" id=\"searchform\" method=\"get\" style=\"height:50px; padding-top:10px\">\n",
            "<input id=\"search\" name=\"q\" placeholder=\"search\" style=\"font-size:16px\" type=\"search\"/>\n",
            "</form>\n",
            "</li>\n",
            "<li><a href=\"/\">Home</a></li>\n",
            "<li><a class=\"tooltipped\" data-delay=\"50\" data-position=\"bottom\" data-tooltip=\"sudo apt-get upgrade\" href=\"/+=1/\">+=1</a></li>\n",
            "<!--<li><a href=\"/store/python-hoodie/\">Store</a></li>-->\n",
            "<li><a href=\"/support/\">Support the Content</a></li>\n",
            "<li><a href=\"https://goo.gl/7zgAVQ\" target=\"blank\"><!--<i class=\"material-icons\">question_answer</i>-->Community</a></li>\n",
            "<li><a href=\"/login/\">Log in</a></li>\n",
            "<li><a href=\"/register/\">Sign up</a></li>\n",
            "</ul>\n",
            "<ul class=\"side-nav\" id=\"navsidebar\">\n",
            "<li>\n",
            "<form action=\"/search/?l=hi\" id=\"searchform\" method=\"get\" style=\"height:50px; padding-top:10px\">\n",
            "<input id=\"search\" name=\"q\" placeholder=\"search\" style=\"font-size:16px\" type=\"search\"/>\n",
            "</form>\n",
            "</li>\n",
            "<li><a href=\"/\">Home</a></li>\n",
            "<li><a class=\"tooltipped\" data-delay=\"50\" data-position=\"bottom\" data-tooltip=\"sudo apt-get upgrade\" href=\"/+=1/\">+=1</a></li>\n",
            "<!--<li><a href=\"/store/python-hoodie/\">Store</a></li>-->\n",
            "<li><a href=\"/support/\">Support the Content</a></li>\n",
            "<li><a href=\"https://goo.gl/7zgAVQ\" target=\"blank\"><!--<i class=\"material-icons\">question_answer</i>-->Community</a></li>\n",
            "<li><a href=\"/login/\">Log in</a></li>\n",
            "<li><a href=\"/register/\">Sign up</a></li>\n",
            "</ul>\n",
            "</div>\n",
            "</nav>\n",
            "</div>\n"
          ]
        }
      ]
    },
    {
      "cell_type": "markdown",
      "metadata": {
        "id": "KNSHPF8C9gi2"
      },
      "source": [
        "Print a unique list of the navigation bar text items"
      ]
    },
    {
      "cell_type": "code",
      "metadata": {
        "colab": {
          "base_uri": "https://localhost:8080/"
        },
        "id": "O-0W9bizp-J7",
        "outputId": "73cb6f4d-f5e8-4127-8507-a46326b0ca4a"
      },
      "source": [
        "# Get all list items.\n",
        "list_items = nav.find_all(\"li\")\n",
        "\n",
        "# Make list of items unique.\n",
        "unique_list_items = list(dict.fromkeys(list_items))\n",
        "# print(unique_list_items)\n",
        "\n",
        "# Print the value of each list item.\n",
        "for li in unique_list_items:\n",
        "\n",
        "    text = li.get_text()\n",
        "    text = \" \".join(text.split()) # Eliminate multiple spaces\n",
        "    print(text)"
      ],
      "execution_count": 8,
      "outputs": [
        {
          "output_type": "stream",
          "name": "stdout",
          "text": [
            "search\n",
            "\n",
            "Home\n",
            "+=1\n",
            "Support the Content\n",
            "Community\n",
            "Log in\n",
            "Sign up\n"
          ]
        }
      ]
    },
    {
      "cell_type": "markdown",
      "metadata": {
        "id": "WZHLu_vWkyXC"
      },
      "source": [
        "Get the Unordered List of Programming Languages"
      ]
    },
    {
      "cell_type": "code",
      "metadata": {
        "colab": {
          "base_uri": "https://localhost:8080/"
        },
        "id": "xkb6PxmXkxG5",
        "outputId": "3ba3b577-ccd1-43c4-e4f6-2ba4d286bcfe"
      },
      "source": [
        "body = soup.find(\"div\", {\"class\":\"body\"})\n",
        "ul = body.find(\"ul\")\n",
        "print(ul, '\\n')\n",
        "items_list = ul.find_all(\"li\")\n",
        "print(*(item.get_text() for item in items_list), sep='\\n')"
      ],
      "execution_count": 14,
      "outputs": [
        {
          "output_type": "stream",
          "name": "stdout",
          "text": [
            "<ul>\n",
            "<li>Python</li>\n",
            "<li>Pascal</li>\n",
            "<li>Lisp</li>\n",
            "<li>D#</li>\n",
            "<li>Cobol</li>\n",
            "<li>Fortran</li>\n",
            "<li>Haskell</li>\n",
            "</ul> \n",
            "\n",
            "Python\n",
            "Pascal\n",
            "Lisp\n",
            "D#\n",
            "Cobol\n",
            "Fortran\n",
            "Haskell\n"
          ]
        }
      ]
    },
    {
      "cell_type": "markdown",
      "metadata": {
        "id": "uSlh_zhYf8oX"
      },
      "source": [
        "Load the Table of Programming Language Information into a DataFrame "
      ]
    },
    {
      "cell_type": "code",
      "metadata": {
        "colab": {
          "base_uri": "https://localhost:8080/",
          "height": 260
        },
        "id": "o2OhDNS0f8F3",
        "outputId": "4e7e39e7-2a42-4d5a-ec39-09f601e41cc9"
      },
      "source": [
        "import pandas as pd\n",
        "\n",
        "# Get table\n",
        "table = body.find(\"table\")\n",
        "\n",
        "# Get headers\n",
        "headers = table.find_all(\"th\")\n",
        "header_list = [header.get_text() for header in headers]\n",
        "\n",
        "# Get table rows\n",
        "rows = table.find_all(\"tr\")\n",
        "row_list = []\n",
        "for row in rows[1:]:\n",
        "    data_items = row.find_all(\"td\")\n",
        "    row_values = [item.text for item in data_items]\n",
        "    row_list.append(row_values)\n",
        "df = pd.DataFrame(row_list, columns=header_list)\n",
        "df"
      ],
      "execution_count": 58,
      "outputs": [
        {
          "output_type": "execute_result",
          "data": {
            "text/html": [
              "<div>\n",
              "<style scoped>\n",
              "    .dataframe tbody tr th:only-of-type {\n",
              "        vertical-align: middle;\n",
              "    }\n",
              "\n",
              "    .dataframe tbody tr th {\n",
              "        vertical-align: top;\n",
              "    }\n",
              "\n",
              "    .dataframe thead th {\n",
              "        text-align: right;\n",
              "    }\n",
              "</style>\n",
              "<table border=\"1\" class=\"dataframe\">\n",
              "  <thead>\n",
              "    <tr style=\"text-align: right;\">\n",
              "      <th></th>\n",
              "      <th>Program Name</th>\n",
              "      <th>Internet Points</th>\n",
              "      <th>Kittens?</th>\n",
              "    </tr>\n",
              "  </thead>\n",
              "  <tbody>\n",
              "    <tr>\n",
              "      <th>0</th>\n",
              "      <td>Python</td>\n",
              "      <td>932914021</td>\n",
              "      <td>Definitely</td>\n",
              "    </tr>\n",
              "    <tr>\n",
              "      <th>1</th>\n",
              "      <td>Pascal</td>\n",
              "      <td>532</td>\n",
              "      <td>Unlikely</td>\n",
              "    </tr>\n",
              "    <tr>\n",
              "      <th>2</th>\n",
              "      <td>Lisp</td>\n",
              "      <td>1522</td>\n",
              "      <td>Uncertain</td>\n",
              "    </tr>\n",
              "    <tr>\n",
              "      <th>3</th>\n",
              "      <td>D#</td>\n",
              "      <td>12</td>\n",
              "      <td>Possibly</td>\n",
              "    </tr>\n",
              "    <tr>\n",
              "      <th>4</th>\n",
              "      <td>Cobol</td>\n",
              "      <td>3</td>\n",
              "      <td>No.</td>\n",
              "    </tr>\n",
              "    <tr>\n",
              "      <th>5</th>\n",
              "      <td>Fortran</td>\n",
              "      <td>52124</td>\n",
              "      <td>Yes.</td>\n",
              "    </tr>\n",
              "    <tr>\n",
              "      <th>6</th>\n",
              "      <td>Haskell</td>\n",
              "      <td>24</td>\n",
              "      <td>lol.</td>\n",
              "    </tr>\n",
              "  </tbody>\n",
              "</table>\n",
              "</div>"
            ],
            "text/plain": [
              "  Program Name Internet Points    Kittens?\n",
              "0       Python       932914021  Definitely\n",
              "1       Pascal             532    Unlikely\n",
              "2         Lisp            1522   Uncertain\n",
              "3           D#              12    Possibly\n",
              "4        Cobol               3         No.\n",
              "5      Fortran           52124        Yes.\n",
              "6      Haskell              24        lol."
            ]
          },
          "metadata": {},
          "execution_count": 58
        }
      ]
    },
    {
      "cell_type": "code",
      "metadata": {
        "colab": {
          "base_uri": "https://localhost:8080/",
          "height": 260
        },
        "id": "6zY3VviBpvT6",
        "outputId": "834e74d4-f779-41e0-927e-6db4949e60c2"
      },
      "source": [
        "# Another way to load the table into a dataframe using Pandas\n",
        "table = body.find(\"table\")\n",
        "df = pd.read_html(str(table))[0]\n",
        "df"
      ],
      "execution_count": 59,
      "outputs": [
        {
          "output_type": "execute_result",
          "data": {
            "text/html": [
              "<div>\n",
              "<style scoped>\n",
              "    .dataframe tbody tr th:only-of-type {\n",
              "        vertical-align: middle;\n",
              "    }\n",
              "\n",
              "    .dataframe tbody tr th {\n",
              "        vertical-align: top;\n",
              "    }\n",
              "\n",
              "    .dataframe thead th {\n",
              "        text-align: right;\n",
              "    }\n",
              "</style>\n",
              "<table border=\"1\" class=\"dataframe\">\n",
              "  <thead>\n",
              "    <tr style=\"text-align: right;\">\n",
              "      <th></th>\n",
              "      <th>Program Name</th>\n",
              "      <th>Internet Points</th>\n",
              "      <th>Kittens?</th>\n",
              "    </tr>\n",
              "  </thead>\n",
              "  <tbody>\n",
              "    <tr>\n",
              "      <th>0</th>\n",
              "      <td>Python</td>\n",
              "      <td>932914021</td>\n",
              "      <td>Definitely</td>\n",
              "    </tr>\n",
              "    <tr>\n",
              "      <th>1</th>\n",
              "      <td>Pascal</td>\n",
              "      <td>532</td>\n",
              "      <td>Unlikely</td>\n",
              "    </tr>\n",
              "    <tr>\n",
              "      <th>2</th>\n",
              "      <td>Lisp</td>\n",
              "      <td>1522</td>\n",
              "      <td>Uncertain</td>\n",
              "    </tr>\n",
              "    <tr>\n",
              "      <th>3</th>\n",
              "      <td>D#</td>\n",
              "      <td>12</td>\n",
              "      <td>Possibly</td>\n",
              "    </tr>\n",
              "    <tr>\n",
              "      <th>4</th>\n",
              "      <td>Cobol</td>\n",
              "      <td>3</td>\n",
              "      <td>No.</td>\n",
              "    </tr>\n",
              "    <tr>\n",
              "      <th>5</th>\n",
              "      <td>Fortran</td>\n",
              "      <td>52124</td>\n",
              "      <td>Yes.</td>\n",
              "    </tr>\n",
              "    <tr>\n",
              "      <th>6</th>\n",
              "      <td>Haskell</td>\n",
              "      <td>24</td>\n",
              "      <td>lol.</td>\n",
              "    </tr>\n",
              "  </tbody>\n",
              "</table>\n",
              "</div>"
            ],
            "text/plain": [
              "  Program Name  Internet Points    Kittens?\n",
              "0       Python        932914021  Definitely\n",
              "1       Pascal              532    Unlikely\n",
              "2         Lisp             1522   Uncertain\n",
              "3           D#               12    Possibly\n",
              "4        Cobol                3         No.\n",
              "5      Fortran            52124        Yes.\n",
              "6      Haskell               24        lol."
            ]
          },
          "metadata": {},
          "execution_count": 59
        }
      ]
    },
    {
      "cell_type": "markdown",
      "metadata": {
        "id": "WVDizdw_kY_2"
      },
      "source": [
        "### Find All Paragraphs"
      ]
    },
    {
      "cell_type": "markdown",
      "metadata": {
        "id": "F_G9I1Qlkt2M"
      },
      "source": [
        "Get list of paragraph items"
      ]
    },
    {
      "cell_type": "code",
      "metadata": {
        "colab": {
          "base_uri": "https://localhost:8080/"
        },
        "id": "v4Y5EiVHchYp",
        "outputId": "7e6e3408-fb0a-402e-b9f6-132531c3351d"
      },
      "source": [
        "paragraph_items = soup.find_all(\"p\")\n",
        "paragraph_items"
      ],
      "execution_count": 10,
      "outputs": [
        {
          "output_type": "execute_result",
          "data": {
            "text/plain": [
              "[<p class=\"introduction\">Oh, hello! This is a <span style=\"font-size:115%\">wonderful</span> page meant to let you practice web scraping. This page was originally created to help people work with the <a href=\"https://www.crummy.com/software/BeautifulSoup/bs4/doc/\" target=\"blank\"><strong>Beautiful Soup 4</strong></a> library.</p>,\n",
              " <p>The following table gives some general information for the following <code>programming languages</code>:</p>,\n",
              " <p>I think it's clear that, on a scale of 1-10, python is:</p>,\n",
              " <p>Javascript (dynamic data) test:</p>,\n",
              " <p class=\"jstest\" id=\"yesnojs\">y u bad tho?</p>,\n",
              " <p>Whᶐt hαppéns now¿</p>,\n",
              " <p><a href=\"/sitemap.xml\" target=\"blank\"><strong>sitemap</strong></a></p>,\n",
              " <p class=\"grey-text text-lighten-4\">Contact: Harrison@pythonprogramming.net.</p>,\n",
              " <p class=\"grey-text right\" style=\"padding-right:10px\">Programming is a superpower.</p>]"
            ]
          },
          "metadata": {},
          "execution_count": 10
        }
      ]
    },
    {
      "cell_type": "markdown",
      "metadata": {
        "id": "OFiXyDN-k52N"
      },
      "source": [
        "Print the text in each paragraph item."
      ]
    },
    {
      "cell_type": "code",
      "metadata": {
        "colab": {
          "base_uri": "https://localhost:8080/"
        },
        "id": "r5qh72RvgVLb",
        "outputId": "744e4e88-c10c-4d06-c2ab-47277c5d90ad"
      },
      "source": [
        "for txt in [str(p.text) for p in paragraph_items]:\n",
        "    print(txt)"
      ],
      "execution_count": 11,
      "outputs": [
        {
          "output_type": "stream",
          "name": "stdout",
          "text": [
            "Oh, hello! This is a wonderful page meant to let you practice web scraping. This page was originally created to help people work with the Beautiful Soup 4 library.\n",
            "The following table gives some general information for the following programming languages:\n",
            "I think it's clear that, on a scale of 1-10, python is:\n",
            "Javascript (dynamic data) test:\n",
            "y u bad tho?\n",
            "Whᶐt hαppéns now¿\n",
            "sitemap\n",
            "Contact: Harrison@pythonprogramming.net.\n",
            "Programming is a superpower.\n"
          ]
        }
      ]
    },
    {
      "cell_type": "markdown",
      "metadata": {
        "id": "0QTMtsl9nKMF"
      },
      "source": [
        "### Grab all links through ```url.get('href')```"
      ]
    },
    {
      "cell_type": "code",
      "metadata": {
        "colab": {
          "base_uri": "https://localhost:8080/"
        },
        "id": "nVLTdXTDlIG2",
        "outputId": "ad962920-cc57-47fd-dbdc-a19dbefcb698"
      },
      "source": [
        "for url in soup.find_all('a'):\n",
        "    print(url.get('href'))"
      ],
      "execution_count": 62,
      "outputs": [
        {
          "output_type": "stream",
          "name": "stdout",
          "text": [
            "/\n",
            "#\n",
            "/\n",
            "/+=1/\n",
            "/support/\n",
            "https://goo.gl/7zgAVQ\n",
            "/login/\n",
            "/register/\n",
            "/\n",
            "/+=1/\n",
            "/support/\n",
            "https://goo.gl/7zgAVQ\n",
            "/login/\n",
            "/register/\n",
            "https://www.crummy.com/software/BeautifulSoup/bs4/doc/\n",
            "/sitemap.xml\n",
            "/support-donate/\n",
            "/consulting/\n",
            "https://www.facebook.com/pythonprogramming.net/\n",
            "https://twitter.com/sentdex\n",
            "https://instagram.com/sentdex\n",
            "/about/tos/\n",
            "/about/privacy-policy/\n",
            "https://xkcd.com/353/\n"
          ]
        }
      ]
    },
    {
      "cell_type": "code",
      "metadata": {
        "id": "94_5u7lvuYX6"
      },
      "source": [
        ""
      ],
      "execution_count": null,
      "outputs": []
    }
  ]
}